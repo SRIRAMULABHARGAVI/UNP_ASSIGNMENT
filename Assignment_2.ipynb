{
  "nbformat": 4,
  "nbformat_minor": 0,
  "metadata": {
    "colab": {
      "name": "Assignment-2.ipynb",
      "provenance": []
    },
    "kernelspec": {
      "name": "python3",
      "display_name": "Python 3"
    },
    "language_info": {
      "name": "python"
    }
  },
  "cells": [
    {
      "cell_type": "markdown",
      "source": [
        "This is your assignment on conditional statement and looping"
      ],
      "metadata": {
        "id": "RWGPvgMGhZo5"
      }
    },
    {
      "cell_type": "markdown",
      "source": [
        "**Problem-1**<br>\n",
        "Write a small program to check a number is divisible by 7 or not"
      ],
      "metadata": {
        "id": "IKuXztS-h62c"
      }
    },
    {
      "cell_type": "code",
      "source": [
        "a=int(input(\"enter a number\"))\n",
        "if(a%7==0):\n",
        "   print(a,\"is divisible by 7\")\n",
        "else:\n",
        "  print(a,\"is not divisible by 7\")   "
      ],
      "metadata": {
        "id": "tmLkoOqthcy-",
        "outputId": "d4020a80-c74e-49ad-e9fe-9685dd4b5058",
        "colab": {
          "base_uri": "https://localhost:8080/"
        }
      },
      "execution_count": 1,
      "outputs": [
        {
          "output_type": "stream",
          "name": "stdout",
          "text": [
            "enter a number49\n",
            "49 is divisible by 7\n"
          ]
        }
      ]
    },
    {
      "cell_type": "markdown",
      "source": [
        "**Problem-2**<br>\n",
        "If a number is divisible by either 5 or 7, then we will call it a 'five-or-seven' number.<br> \n",
        "Write down a program to check if a number is 'five-or-seven' number or not."
      ],
      "metadata": {
        "id": "aKEBothyhZy8"
      }
    },
    {
      "cell_type": "code",
      "source": [
        "num=int(input(\"enter a number:\"))\n",
        "if((num%5==0)or(num%7==0)):\n",
        "  print(\"its a five-or-seven number\")\n",
        "else:\n",
        "  print(\"its not a five-or-seven number\")  "
      ],
      "metadata": {
        "id": "Vv-j3UR9hd1-",
        "outputId": "0f0bbab6-d4e7-4483-e9c6-4904c8c09384",
        "colab": {
          "base_uri": "https://localhost:8080/"
        }
      },
      "execution_count": 2,
      "outputs": [
        {
          "output_type": "stream",
          "name": "stdout",
          "text": [
            "enter a number:45\n",
            "its a five-or-seven number\n"
          ]
        }
      ]
    },
    {
      "cell_type": "code",
      "source": [
        ""
      ],
      "metadata": {
        "id": "pRf1AvHJGYSj"
      },
      "execution_count": null,
      "outputs": []
    },
    {
      "cell_type": "markdown",
      "source": [
        "**Problem-3**<br>\n",
        "Write a program to calculate the electricity bill (accept number of unit from user) according to the following criteria:<br>  \n",
        "Upto first 100 units Rs. 3 per unit.<br>\n",
        "Next 100 units Rs. 5 per unit.<br>\n",
        "Next 300 units Rs. 7 per unit.<br>\n",
        "Above that, for each unit exceeding 500, Rs. 10 per unit flat.<br>"
      ],
      "metadata": {
        "id": "Y9KxqFjxl2zt"
      }
    },
    {
      "cell_type": "code",
      "source": [
        "unit=250\n",
        "if(unit<=100):\n",
        "  print(unit*3)\n",
        "elif(unit<200):\n",
        "  print(unit*5)\n",
        "elif(unit<500):\n",
        "  print(unit*7)\n",
        "else:\n",
        "  print(unit*10)      \n",
        "  \n"
      ],
      "metadata": {
        "id": "f_xfH-gSnRvI",
        "outputId": "98fd27f0-21f9-4ee3-b8e4-4d985a126c80",
        "colab": {
          "base_uri": "https://localhost:8080/"
        }
      },
      "execution_count": 4,
      "outputs": [
        {
          "output_type": "stream",
          "name": "stdout",
          "text": [
            "1750\n"
          ]
        }
      ]
    },
    {
      "cell_type": "markdown",
      "source": [
        "**Problem-4**<br>\n",
        "Find out sum of square of all the numbers upto 10, starting from 1"
      ],
      "metadata": {
        "id": "rLNw2lAwhZ8q"
      }
    },
    {
      "cell_type": "code",
      "source": [
        "num=10\n",
        "sum=0\n",
        "while num>0:\n",
        "  sum=sum+(num*num)\n",
        "  num=num-1\n",
        "print (sum)\n"
      ],
      "metadata": {
        "id": "8kgqZ_x-heuw",
        "outputId": "e22a6c27-06f5-4735-84e6-8103f9490a62",
        "colab": {
          "base_uri": "https://localhost:8080/"
        }
      },
      "execution_count": 5,
      "outputs": [
        {
          "output_type": "stream",
          "name": "stdout",
          "text": [
            "385\n"
          ]
        }
      ]
    },
    {
      "cell_type": "markdown",
      "source": [
        "**Problem-5**<br>\n",
        "Find out sum of square of all the even numbers upto 10, starting from 1"
      ],
      "metadata": {
        "id": "Y-MCE0x9haiN"
      }
    },
    {
      "cell_type": "code",
      "source": [
        "sum=0\n",
        "for num in range(1,11):\n",
        "  if(num%2==0):\n",
        "    sum=sum+(num*num)\n",
        "  print(sum)  \n"
      ],
      "metadata": {
        "id": "Ki_-j4Dphfkd",
        "outputId": "4d600b59-5f6d-41c2-8676-952bdc319fdf",
        "colab": {
          "base_uri": "https://localhost:8080/"
        }
      },
      "execution_count": 6,
      "outputs": [
        {
          "output_type": "stream",
          "name": "stdout",
          "text": [
            "0\n",
            "4\n",
            "4\n",
            "20\n",
            "20\n",
            "56\n",
            "56\n",
            "120\n",
            "120\n",
            "220\n"
          ]
        }
      ]
    },
    {
      "cell_type": "markdown",
      "source": [
        "**Problem-6**<br>\n",
        "Check a number is prime or not"
      ],
      "metadata": {
        "id": "Sxp-egxiha1L"
      }
    },
    {
      "cell_type": "code",
      "source": [
        "num = int(input(\"enter a number\"))\n",
        "if num>1:\n",
        "  for i in range(2, int(num/2)+1):\n",
        "    if(num % i) == 0:\n",
        "      print(num,\"is not a prime no \") \n",
        "      break\n",
        "  else:\n",
        "      print(num,\"is a prime no\")  \n"
      ],
      "metadata": {
        "id": "IoGNy2aMhgop",
        "outputId": "3017c388-6bcb-44b8-a4de-98b5676d1292",
        "colab": {
          "base_uri": "https://localhost:8080/"
        }
      },
      "execution_count": 12,
      "outputs": [
        {
          "output_type": "stream",
          "name": "stdout",
          "text": [
            "enter a number5\n",
            "5 is a prime no\n"
          ]
        }
      ]
    },
    {
      "cell_type": "markdown",
      "source": [
        "**Problem-7**<br>\n",
        "Print multiplication table upto 10 starting from 1"
      ],
      "metadata": {
        "id": "ntLKcA1hha44"
      }
    },
    {
      "cell_type": "code",
      "source": [
        "for num in range(1,11):\n",
        "  for i in range(1,11):\n",
        "    print(num,\"*\",i,\"=\",num*1)\n"
      ],
      "metadata": {
        "id": "U5LmrwFmhiE3",
        "outputId": "6e203234-f702-4580-df59-dc7f781fc7eb",
        "colab": {
          "base_uri": "https://localhost:8080/"
        }
      },
      "execution_count": 15,
      "outputs": [
        {
          "output_type": "stream",
          "name": "stdout",
          "text": [
            "1 * 1 = 1\n",
            "1 * 2 = 1\n",
            "1 * 3 = 1\n",
            "1 * 4 = 1\n",
            "1 * 5 = 1\n",
            "1 * 6 = 1\n",
            "1 * 7 = 1\n",
            "1 * 8 = 1\n",
            "1 * 9 = 1\n",
            "1 * 10 = 1\n",
            "2 * 1 = 2\n",
            "2 * 2 = 2\n",
            "2 * 3 = 2\n",
            "2 * 4 = 2\n",
            "2 * 5 = 2\n",
            "2 * 6 = 2\n",
            "2 * 7 = 2\n",
            "2 * 8 = 2\n",
            "2 * 9 = 2\n",
            "2 * 10 = 2\n",
            "3 * 1 = 3\n",
            "3 * 2 = 3\n",
            "3 * 3 = 3\n",
            "3 * 4 = 3\n",
            "3 * 5 = 3\n",
            "3 * 6 = 3\n",
            "3 * 7 = 3\n",
            "3 * 8 = 3\n",
            "3 * 9 = 3\n",
            "3 * 10 = 3\n",
            "4 * 1 = 4\n",
            "4 * 2 = 4\n",
            "4 * 3 = 4\n",
            "4 * 4 = 4\n",
            "4 * 5 = 4\n",
            "4 * 6 = 4\n",
            "4 * 7 = 4\n",
            "4 * 8 = 4\n",
            "4 * 9 = 4\n",
            "4 * 10 = 4\n",
            "5 * 1 = 5\n",
            "5 * 2 = 5\n",
            "5 * 3 = 5\n",
            "5 * 4 = 5\n",
            "5 * 5 = 5\n",
            "5 * 6 = 5\n",
            "5 * 7 = 5\n",
            "5 * 8 = 5\n",
            "5 * 9 = 5\n",
            "5 * 10 = 5\n",
            "6 * 1 = 6\n",
            "6 * 2 = 6\n",
            "6 * 3 = 6\n",
            "6 * 4 = 6\n",
            "6 * 5 = 6\n",
            "6 * 6 = 6\n",
            "6 * 7 = 6\n",
            "6 * 8 = 6\n",
            "6 * 9 = 6\n",
            "6 * 10 = 6\n",
            "7 * 1 = 7\n",
            "7 * 2 = 7\n",
            "7 * 3 = 7\n",
            "7 * 4 = 7\n",
            "7 * 5 = 7\n",
            "7 * 6 = 7\n",
            "7 * 7 = 7\n",
            "7 * 8 = 7\n",
            "7 * 9 = 7\n",
            "7 * 10 = 7\n",
            "8 * 1 = 8\n",
            "8 * 2 = 8\n",
            "8 * 3 = 8\n",
            "8 * 4 = 8\n",
            "8 * 5 = 8\n",
            "8 * 6 = 8\n",
            "8 * 7 = 8\n",
            "8 * 8 = 8\n",
            "8 * 9 = 8\n",
            "8 * 10 = 8\n",
            "9 * 1 = 9\n",
            "9 * 2 = 9\n",
            "9 * 3 = 9\n",
            "9 * 4 = 9\n",
            "9 * 5 = 9\n",
            "9 * 6 = 9\n",
            "9 * 7 = 9\n",
            "9 * 8 = 9\n",
            "9 * 9 = 9\n",
            "9 * 10 = 9\n",
            "10 * 1 = 10\n",
            "10 * 2 = 10\n",
            "10 * 3 = 10\n",
            "10 * 4 = 10\n",
            "10 * 5 = 10\n",
            "10 * 6 = 10\n",
            "10 * 7 = 10\n",
            "10 * 8 = 10\n",
            "10 * 9 = 10\n",
            "10 * 10 = 10\n"
          ]
        }
      ]
    },
    {
      "cell_type": "markdown",
      "source": [
        "**Problem-8**<br>\n",
        "Print the series of first n fibonacci numbers"
      ],
      "metadata": {
        "id": "09Fwyn_ZhbDY"
      }
    },
    {
      "cell_type": "code",
      "source": [
        "n=int(input(\"enter a number\"))\n",
        "a=0\n",
        "b=1\n",
        "for i in range(0,n):\n",
        "  c=a+b\n",
        "  a=b\n",
        "  b=c\n",
        "  print(c)\n",
        "\n"
      ],
      "metadata": {
        "id": "mo2otdwfhi3J",
        "outputId": "0bd10067-8d77-4225-e587-d84a530056d1",
        "colab": {
          "base_uri": "https://localhost:8080/"
        }
      },
      "execution_count": 17,
      "outputs": [
        {
          "output_type": "stream",
          "name": "stdout",
          "text": [
            "enter a number9\n",
            "1\n",
            "2\n",
            "3\n",
            "5\n",
            "8\n",
            "13\n",
            "21\n",
            "34\n",
            "55\n"
          ]
        }
      ]
    }
  ]
}